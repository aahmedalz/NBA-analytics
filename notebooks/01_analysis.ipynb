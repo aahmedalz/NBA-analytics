﻿{
 "cells": [
  {
   "cell_type": "markdown",
   "metadata": {},
   "source": [
    "# NBA Scoring, 3PA Volume, and MVP Voting (2003–2022)\n",
    "Starter notebook. Put the Kaggle CSV under data/ and update the path below."
   ]
  },
  {
   "cell_type": "code",
   "execution_count": null,
   "metadata": {},
   "outputs": [],
   "source": [
    "import pandas as pd, numpy as np, matplotlib.pyplot as plt\n",
    "%matplotlib inline\n",
    "PATH = 'data/your_kaggle_file.csv'  # TODO: set\n",
    "df = pd.read_csv(PATH)\n",
    "df.head()"
   ]
  }
 ],
 "metadata": {"kernelspec":{"display_name":"Python 3","language":"python","name":"python3"},"language_info":{"name":"python","version":"3.x"}},
 "nbformat": 4,
 "nbformat_minor": 5
}
